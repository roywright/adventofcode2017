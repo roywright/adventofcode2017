{
 "cells": [
  {
   "cell_type": "markdown",
   "metadata": {},
   "source": [
    "# Advent of Code 2017\n",
    "http://adventofcode.com/2017"
   ]
  },
  {
   "cell_type": "markdown",
   "metadata": {},
   "source": [
    "## Day 1\n",
    "### Part 1"
   ]
  },
  {
   "cell_type": "code",
   "execution_count": 1,
   "metadata": {},
   "outputs": [
    {
     "name": "stdout",
     "output_type": "stream",
     "text": [
      "1119\n"
     ]
    }
   ],
   "source": [
    "with open('day01.txt') as f:\n",
    "    digit_string = f.readline().strip()\n",
    "\n",
    "matchers = [\n",
    "    i for i in range(len(digit_string)) \n",
    "    if digit_string[i] == (digit_string + digit_string[0])[i+1]\n",
    "]\n",
    "\n",
    "print(sum(\n",
    "    int(digit_string[i]) for i in matchers\n",
    "))"
   ]
  },
  {
   "cell_type": "markdown",
   "metadata": {},
   "source": [
    "### Part 2"
   ]
  },
  {
   "cell_type": "code",
   "execution_count": 2,
   "metadata": {},
   "outputs": [
    {
     "name": "stdout",
     "output_type": "stream",
     "text": [
      "1420\n"
     ]
    }
   ],
   "source": [
    "n = len(digit_string)    \n",
    "matchers = [\n",
    "    i for i in range(n) \n",
    "    if digit_string[i] == (digit_string * 2)[i + n // 2]\n",
    "]\n",
    "\n",
    "print(sum(\n",
    "    int(digit_string[i]) for i in matchers\n",
    "))"
   ]
  },
  {
   "cell_type": "markdown",
   "metadata": {},
   "source": [
    "## Day 2\n",
    "### Part 1"
   ]
  },
  {
   "cell_type": "code",
   "execution_count": 3,
   "metadata": {},
   "outputs": [
    {
     "name": "stdout",
     "output_type": "stream",
     "text": [
      "44216\n"
     ]
    }
   ],
   "source": [
    "with open('day02.txt') as f:\n",
    "    rows = f.readlines()\n",
    "\n",
    "rows = [[int(n) for n in row.strip().split()] for row in rows]\n",
    "    \n",
    "diffs = [max(r) - min(r) for r in rows]\n",
    "        \n",
    "print(sum(diffs))"
   ]
  },
  {
   "cell_type": "markdown",
   "metadata": {},
   "source": [
    "### Part 2"
   ]
  },
  {
   "cell_type": "code",
   "execution_count": 4,
   "metadata": {},
   "outputs": [
    {
     "name": "stdout",
     "output_type": "stream",
     "text": [
      "320\n"
     ]
    }
   ],
   "source": [
    "from itertools import permutations\n",
    "\n",
    "def find_div(row):\n",
    "    for pair in permutations(row, 2):\n",
    "        if pair[1] % pair[0] == 0:\n",
    "            return pair[1] // pair[0]\n",
    "\n",
    "diffs = [find_div(r) for r in rows]\n",
    "        \n",
    "print(sum(diffs))"
   ]
  },
  {
   "cell_type": "markdown",
   "metadata": {},
   "source": [
    "## Day 3\n",
    "### Part 1"
   ]
  },
  {
   "cell_type": "code",
   "execution_count": 5,
   "metadata": {},
   "outputs": [
    {
     "name": "stdout",
     "output_type": "stream",
     "text": [
      "[0, 3, 2, 31, 480]\n"
     ]
    }
   ],
   "source": [
    "number = 347991\n",
    "\n",
    "def spiral(n):\n",
    "    current_num = 1\n",
    "    current_dist = 0\n",
    "    side_dist = 0\n",
    "    corner_dist = 0\n",
    "\n",
    "    while True:\n",
    "        corner_dist += 2\n",
    "        side_dist += 1\n",
    "        dists = list(range(corner_dist - 1, side_dist, -1))\n",
    "        dists += list(range(side_dist, corner_dist + 1))\n",
    "        for _ in range(4):\n",
    "            for d in dists:\n",
    "                if current_num == n:\n",
    "                    return current_dist\n",
    "                current_dist = d\n",
    "                current_num += 1\n",
    "\n",
    "print([\n",
    "    spiral(x) for x in [1, 12, 23, 1024, number]\n",
    "])"
   ]
  },
  {
   "cell_type": "markdown",
   "metadata": {},
   "source": [
    "### Part 2"
   ]
  },
  {
   "cell_type": "code",
   "execution_count": 6,
   "metadata": {},
   "outputs": [
    {
     "data": {
      "text/plain": [
       "349975"
      ]
     },
     "execution_count": 6,
     "metadata": {},
     "output_type": "execute_result"
    }
   ],
   "source": [
    "grid = [[0 for _ in range(31)] for _ in range(31)]\n",
    "\n",
    "def resize(grid):\n",
    "    rows = len(grid)\n",
    "    cols = len(grid[0])\n",
    "    grid.insert(0, [0 for _ in range(cols)])\n",
    "    grid.append([0 for _ in range(cols)])\n",
    "    for row in grid:\n",
    "        row.insert(0, 0)\n",
    "        row.append(0)\n",
    "        \n",
    "i = len(grid)//2\n",
    "j = len(grid)//2\n",
    "di = 0\n",
    "dj = 1\n",
    "\n",
    "grid[i][j] = 1\n",
    "\n",
    "moves = 0\n",
    "\n",
    "while grid[i][j] <= number:\n",
    "    if i == 1 or j == 1 or i == len(grid) - 2 or j == len(grid) - 2:\n",
    "        resize(grid)\n",
    "        i += 1\n",
    "        j += 1\n",
    "    if di == 0:\n",
    "        moves += 1\n",
    "    for move in range(moves):\n",
    "        i += di\n",
    "        j += dj\n",
    "        grid[i][j] = (\n",
    "            grid[i+1][j] + grid[i][j+1] + grid[i-1][j] + grid[i][j-1] + \n",
    "            grid[i-1][j-1] + grid[i+1][j+1] + grid[i+1][j-1] + grid[i-1][j+1]\n",
    "        )\n",
    "        if grid[i][j] > number:\n",
    "            break\n",
    "    di, dj = -dj, di   \n",
    "\n",
    "grid[i][j]    "
   ]
  },
  {
   "cell_type": "markdown",
   "metadata": {},
   "source": [
    "## Day 4\n",
    "### Part 1"
   ]
  },
  {
   "cell_type": "code",
   "execution_count": 7,
   "metadata": {},
   "outputs": [
    {
     "name": "stdout",
     "output_type": "stream",
     "text": [
      "383\n"
     ]
    }
   ],
   "source": [
    "with open('day04.txt') as f:\n",
    "    rows = f.readlines()\n",
    "\n",
    "rows = [[word for word in row.strip('\\n\\r').split()] for row in rows]\n",
    "    \n",
    "valid = [len(row) == len(set(row)) for row in rows]\n",
    "        \n",
    "print(sum(valid))"
   ]
  },
  {
   "cell_type": "markdown",
   "metadata": {},
   "source": [
    "### Part 2"
   ]
  },
  {
   "cell_type": "code",
   "execution_count": 8,
   "metadata": {},
   "outputs": [
    {
     "name": "stdout",
     "output_type": "stream",
     "text": [
      "265\n"
     ]
    }
   ],
   "source": [
    "rows = [[''.join(sorted(word)) for word in row] for row in rows]\n",
    "    \n",
    "valid = [len(row) == len(set(row)) for row in rows]\n",
    "        \n",
    "print(sum(valid))"
   ]
  },
  {
   "cell_type": "markdown",
   "metadata": {},
   "source": [
    "## Day 5\n",
    "### Part 1"
   ]
  },
  {
   "cell_type": "code",
   "execution_count": 9,
   "metadata": {},
   "outputs": [
    {
     "name": "stdout",
     "output_type": "stream",
     "text": [
      "387096\n"
     ]
    }
   ],
   "source": [
    "with open('day05.txt') as f:\n",
    "    instr = [int(n.strip()) for n in f.readlines()]\n",
    "\n",
    "pos = 0\n",
    "steps = 0\n",
    "while pos >= 0 and pos < len(instr):\n",
    "    newpos = pos + instr[pos]\n",
    "    instr[pos] += 1\n",
    "    pos = newpos\n",
    "    steps += 1\n",
    "\n",
    "print(steps)"
   ]
  },
  {
   "cell_type": "markdown",
   "metadata": {},
   "source": [
    "### Part 2"
   ]
  },
  {
   "cell_type": "code",
   "execution_count": 10,
   "metadata": {},
   "outputs": [
    {
     "name": "stdout",
     "output_type": "stream",
     "text": [
      "28040648\n"
     ]
    }
   ],
   "source": [
    "with open('day05.txt') as f:\n",
    "    instr = [int(n.strip()) for n in f.readlines()]\n",
    "\n",
    "pos = 0\n",
    "steps = 0\n",
    "while pos >= 0 and pos < len(instr):\n",
    "    newpos = pos + instr[pos]\n",
    "    instr[pos] += (-1 if instr[pos] >= 3 else 1)\n",
    "    pos = newpos\n",
    "    steps += 1\n",
    "\n",
    "print(steps)"
   ]
  },
  {
   "cell_type": "markdown",
   "metadata": {},
   "source": [
    "## Day 6\n",
    "### Part 1"
   ]
  },
  {
   "cell_type": "code",
   "execution_count": 11,
   "metadata": {},
   "outputs": [
    {
     "name": "stdout",
     "output_type": "stream",
     "text": [
      "11137\n"
     ]
    }
   ],
   "source": [
    "def redistribute(b):\n",
    "    i = b.index(max(b))\n",
    "    j = i\n",
    "    while b[i] > 0:\n",
    "        j = (j + 1) % len(b)\n",
    "        b[j] += 1\n",
    "        b[i] -= 1\n",
    "\n",
    "with open('day06.txt') as f:\n",
    "    blocks = [int(n) for n in f.readline().split()]\n",
    "\n",
    "past_blocks = []\n",
    "\n",
    "while blocks not in past_blocks:\n",
    "    past_blocks.append(blocks.copy())\n",
    "    redistribute(blocks)\n",
    "\n",
    "print(len(past_blocks))"
   ]
  },
  {
   "cell_type": "markdown",
   "metadata": {},
   "source": [
    "### Part 2"
   ]
  },
  {
   "cell_type": "code",
   "execution_count": 12,
   "metadata": {},
   "outputs": [
    {
     "name": "stdout",
     "output_type": "stream",
     "text": [
      "1037\n"
     ]
    }
   ],
   "source": [
    "print(len(past_blocks) - past_blocks.index(blocks))"
   ]
  }
 ],
 "metadata": {
  "kernelspec": {
   "display_name": "Python 3",
   "language": "python",
   "name": "python3"
  },
  "language_info": {
   "codemirror_mode": {
    "name": "ipython",
    "version": 3
   },
   "file_extension": ".py",
   "mimetype": "text/x-python",
   "name": "python",
   "nbconvert_exporter": "python",
   "pygments_lexer": "ipython3",
   "version": "3.6.3"
  }
 },
 "nbformat": 4,
 "nbformat_minor": 2
}
