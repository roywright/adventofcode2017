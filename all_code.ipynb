{
 "cells": [
  {
   "cell_type": "markdown",
   "metadata": {},
   "source": [
    "# Advent of Code 2017\n",
    "http://adventofcode.com/2017"
   ]
  },
  {
   "cell_type": "markdown",
   "metadata": {},
   "source": [
    "## Day 1\n",
    "Puzzle input: `day01.txt`\n",
    "### Part 1"
   ]
  },
  {
   "cell_type": "code",
   "execution_count": 1,
   "metadata": {},
   "outputs": [
    {
     "name": "stdout",
     "output_type": "stream",
     "text": [
      "1119\n"
     ]
    }
   ],
   "source": [
    "with open('day01.txt') as f:\n",
    "    digit_string = f.readline().strip()\n",
    "\n",
    "matchers = [\n",
    "    i for i in range(len(digit_string)) \n",
    "    if digit_string[i] == (digit_string + digit_string[0])[i+1]\n",
    "]\n",
    "\n",
    "print(sum(\n",
    "    int(digit_string[i]) for i in matchers\n",
    "))"
   ]
  },
  {
   "cell_type": "markdown",
   "metadata": {},
   "source": [
    "### Part 2"
   ]
  },
  {
   "cell_type": "code",
   "execution_count": 2,
   "metadata": {},
   "outputs": [
    {
     "name": "stdout",
     "output_type": "stream",
     "text": [
      "1420\n"
     ]
    }
   ],
   "source": [
    "n = len(digit_string)    \n",
    "matchers = [\n",
    "    i for i in range(n) \n",
    "    if digit_string[i] == (digit_string * 2)[i + n // 2]\n",
    "]\n",
    "\n",
    "print(sum(\n",
    "    int(digit_string[i]) for i in matchers\n",
    "))"
   ]
  },
  {
   "cell_type": "markdown",
   "metadata": {},
   "source": [
    "## Day 2\n",
    "Puzzle input: `day02.txt`\n",
    "### Part 1"
   ]
  },
  {
   "cell_type": "code",
   "execution_count": 3,
   "metadata": {},
   "outputs": [
    {
     "name": "stdout",
     "output_type": "stream",
     "text": [
      "44216\n"
     ]
    }
   ],
   "source": [
    "with open('day02.txt') as f:\n",
    "    rows = f.readlines()\n",
    "\n",
    "rows = [[int(n) for n in row.strip().split()] for row in rows]\n",
    "    \n",
    "diffs = [max(r) - min(r) for r in rows]\n",
    "        \n",
    "print(sum(diffs))"
   ]
  },
  {
   "cell_type": "markdown",
   "metadata": {},
   "source": [
    "### Part 2"
   ]
  },
  {
   "cell_type": "code",
   "execution_count": 4,
   "metadata": {},
   "outputs": [
    {
     "name": "stdout",
     "output_type": "stream",
     "text": [
      "320\n"
     ]
    }
   ],
   "source": [
    "from itertools import permutations\n",
    "\n",
    "def find_div(row):\n",
    "    for pair in permutations(row, 2):\n",
    "        if pair[1] % pair[0] == 0:\n",
    "            return pair[1] // pair[0]\n",
    "\n",
    "divs = [find_div(r) for r in rows]\n",
    "        \n",
    "print(sum(divs))"
   ]
  },
  {
   "cell_type": "markdown",
   "metadata": {},
   "source": [
    "## Day 3\n",
    "Puzzle input: `347991`\n",
    "### Part 1"
   ]
  },
  {
   "cell_type": "code",
   "execution_count": 5,
   "metadata": {},
   "outputs": [
    {
     "name": "stdout",
     "output_type": "stream",
     "text": [
      "[0, 3, 2, 31, 480]\n"
     ]
    }
   ],
   "source": [
    "number = 347991\n",
    "\n",
    "def spiral(n):\n",
    "    current_num = 1\n",
    "    current_dist = 0\n",
    "    side_dist = 0\n",
    "    corner_dist = 0\n",
    "\n",
    "    while True:\n",
    "        corner_dist += 2\n",
    "        side_dist += 1\n",
    "        dists = list(range(corner_dist - 1, side_dist, -1))\n",
    "        dists += list(range(side_dist, corner_dist + 1))\n",
    "        for _ in range(4):\n",
    "            for d in dists:\n",
    "                if current_num == n:\n",
    "                    return current_dist\n",
    "                current_dist = d\n",
    "                current_num += 1\n",
    "\n",
    "print([\n",
    "    spiral(x) for x in [1, 12, 23, 1024, number]\n",
    "])"
   ]
  },
  {
   "cell_type": "markdown",
   "metadata": {},
   "source": [
    "### Part 2"
   ]
  },
  {
   "cell_type": "code",
   "execution_count": 6,
   "metadata": {},
   "outputs": [
    {
     "data": {
      "text/plain": [
       "349975"
      ]
     },
     "execution_count": 6,
     "metadata": {},
     "output_type": "execute_result"
    }
   ],
   "source": [
    "grid = [[0 for _ in range(31)] for _ in range(31)]\n",
    "\n",
    "def resize(grid):\n",
    "    rows = len(grid)\n",
    "    cols = len(grid[0])\n",
    "    grid.insert(0, [0 for _ in range(cols)])\n",
    "    grid.append([0 for _ in range(cols)])\n",
    "    for row in grid:\n",
    "        row.insert(0, 0)\n",
    "        row.append(0)\n",
    "        \n",
    "i = len(grid)//2\n",
    "j = len(grid)//2\n",
    "di = 0\n",
    "dj = 1\n",
    "\n",
    "grid[i][j] = 1\n",
    "\n",
    "moves = 0\n",
    "\n",
    "while grid[i][j] <= number:\n",
    "    if i == 1 or j == 1 or i == len(grid) - 2 or j == len(grid) - 2:\n",
    "        resize(grid)\n",
    "        i += 1\n",
    "        j += 1\n",
    "    if di == 0:\n",
    "        moves += 1\n",
    "    for move in range(moves):\n",
    "        i += di\n",
    "        j += dj\n",
    "        grid[i][j] = (\n",
    "            grid[i+1][j] + grid[i][j+1] + grid[i-1][j] + grid[i][j-1] + \n",
    "            grid[i-1][j-1] + grid[i+1][j+1] + grid[i+1][j-1] + grid[i-1][j+1]\n",
    "        )\n",
    "        if grid[i][j] > number:\n",
    "            break\n",
    "    di, dj = -dj, di   \n",
    "\n",
    "grid[i][j]    "
   ]
  },
  {
   "cell_type": "markdown",
   "metadata": {},
   "source": [
    "## Day 4\n",
    "Puzzle input: `day04.txt`\n",
    "### Part 1"
   ]
  },
  {
   "cell_type": "code",
   "execution_count": 7,
   "metadata": {},
   "outputs": [
    {
     "name": "stdout",
     "output_type": "stream",
     "text": [
      "383\n"
     ]
    }
   ],
   "source": [
    "with open('day04.txt') as f:\n",
    "    rows = f.readlines()\n",
    "\n",
    "rows = [[word for word in row.strip('\\n\\r').split()] for row in rows]\n",
    "    \n",
    "valid = [len(row) == len(set(row)) for row in rows]\n",
    "        \n",
    "print(sum(valid))"
   ]
  },
  {
   "cell_type": "markdown",
   "metadata": {},
   "source": [
    "### Part 2"
   ]
  },
  {
   "cell_type": "code",
   "execution_count": 8,
   "metadata": {},
   "outputs": [
    {
     "name": "stdout",
     "output_type": "stream",
     "text": [
      "265\n"
     ]
    }
   ],
   "source": [
    "rows = [[''.join(sorted(word)) for word in row] for row in rows]\n",
    "    \n",
    "valid = [len(row) == len(set(row)) for row in rows]\n",
    "        \n",
    "print(sum(valid))"
   ]
  },
  {
   "cell_type": "markdown",
   "metadata": {},
   "source": [
    "## Day 5\n",
    "Puzzle input: `day05.txt`\n",
    "### Part 1"
   ]
  },
  {
   "cell_type": "code",
   "execution_count": 9,
   "metadata": {},
   "outputs": [
    {
     "name": "stdout",
     "output_type": "stream",
     "text": [
      "387096\n"
     ]
    }
   ],
   "source": [
    "with open('day05.txt') as f:\n",
    "    instr = [int(n.strip()) for n in f.readlines()]\n",
    "\n",
    "pos = 0\n",
    "steps = 0\n",
    "while pos >= 0 and pos < len(instr):\n",
    "    newpos = pos + instr[pos]\n",
    "    instr[pos] += 1\n",
    "    pos = newpos\n",
    "    steps += 1\n",
    "\n",
    "print(steps)"
   ]
  },
  {
   "cell_type": "markdown",
   "metadata": {},
   "source": [
    "### Part 2"
   ]
  },
  {
   "cell_type": "code",
   "execution_count": 10,
   "metadata": {},
   "outputs": [
    {
     "name": "stdout",
     "output_type": "stream",
     "text": [
      "28040648\n"
     ]
    }
   ],
   "source": [
    "with open('day05.txt') as f:\n",
    "    instr = [int(n.strip()) for n in f.readlines()]\n",
    "\n",
    "pos = 0\n",
    "steps = 0\n",
    "while pos >= 0 and pos < len(instr):\n",
    "    newpos = pos + instr[pos]\n",
    "    instr[pos] += (-1 if instr[pos] >= 3 else 1)\n",
    "    pos = newpos\n",
    "    steps += 1\n",
    "\n",
    "print(steps)"
   ]
  },
  {
   "cell_type": "markdown",
   "metadata": {},
   "source": [
    "## Day 6\n",
    "Puzzle input: `day06.txt`\n",
    "### Part 1"
   ]
  },
  {
   "cell_type": "code",
   "execution_count": 11,
   "metadata": {},
   "outputs": [
    {
     "name": "stdout",
     "output_type": "stream",
     "text": [
      "11137\n"
     ]
    }
   ],
   "source": [
    "def redistribute(b):\n",
    "    i = b.index(max(b))\n",
    "    j = i\n",
    "    while b[i] > 0:\n",
    "        j = (j + 1) % len(b)\n",
    "        b[j] += 1\n",
    "        b[i] -= 1\n",
    "\n",
    "with open('day06.txt') as f:\n",
    "    blocks = [int(n) for n in f.readline().split()]\n",
    "\n",
    "past_blocks = []\n",
    "\n",
    "while blocks not in past_blocks:\n",
    "    past_blocks.append(blocks.copy())\n",
    "    redistribute(blocks)\n",
    "\n",
    "print(len(past_blocks))"
   ]
  },
  {
   "cell_type": "markdown",
   "metadata": {},
   "source": [
    "### Part 2"
   ]
  },
  {
   "cell_type": "code",
   "execution_count": 12,
   "metadata": {},
   "outputs": [
    {
     "name": "stdout",
     "output_type": "stream",
     "text": [
      "1037\n"
     ]
    }
   ],
   "source": [
    "print(len(past_blocks) - past_blocks.index(blocks))"
   ]
  },
  {
   "cell_type": "markdown",
   "metadata": {},
   "source": [
    "## Day 7\n",
    "Puzzle input: `day07.txt`\n",
    "### Part 1"
   ]
  },
  {
   "cell_type": "code",
   "execution_count": 13,
   "metadata": {},
   "outputs": [
    {
     "name": "stdout",
     "output_type": "stream",
     "text": [
      "hlqnsbe\n"
     ]
    }
   ],
   "source": [
    "with open('day07.txt') as f:\n",
    "    lines = [\n",
    "        l.strip().replace(' ','').replace(')','') \n",
    "        for l in f.readlines()\n",
    "    ]\n",
    "\n",
    "weights = [0] * len(lines) \n",
    "\n",
    "for i in range(len(lines)):\n",
    "    lines[i] = lines[i].split('->')\n",
    "    lines[i][0], weights[i] = lines[i][0].split('(')\n",
    "    weights[i] = int(weights[i])\n",
    "    if len(lines[i]) > 1:\n",
    "        children = lines[i][1].split(',')\n",
    "        lines[i] = [lines[i][0]] + children\n",
    "\n",
    "links = []\n",
    "for line in lines:\n",
    "    for child in line[1:]:\n",
    "        links.append((\n",
    "            child, line[0], \n",
    "            weights[[l[0] for l in lines].index(child)]\n",
    "        ))\n",
    "\n",
    "bottom = list(set(l[1] for l in links) - set(l[0] for l in links))[0]\n",
    "print(bottom)"
   ]
  },
  {
   "cell_type": "markdown",
   "metadata": {},
   "source": [
    "### Part 2"
   ]
  },
  {
   "cell_type": "code",
   "execution_count": 14,
   "metadata": {},
   "outputs": [
    {
     "name": "stdout",
     "output_type": "stream",
     "text": [
      "UNBALANCED AT 'aurik'\n",
      "---------------------\n",
      "'jriph' (1998) has aggregated weight 2102\n",
      "'bykobk' (1224) has aggregated weight 2097\n",
      "'uylvg' (403) has aggregated weight 2097\n",
      "'yxhntq' (9) has aggregated weight 2097\n",
      "'ywdvft' (333) has aggregated weight 2097\n",
      "\n",
      "\n",
      "UNBALANCED AT 'rilyl'\n",
      "---------------------\n",
      "'aurik' (2443) has aggregated weight 12933\n",
      "'fcmspin' (11992) has aggregated weight 12928\n",
      "'hpqvzn' (5383) has aggregated weight 12928\n",
      "'hymjivf' (28) has aggregated weight 12928\n",
      "'qgrkb' (9541) has aggregated weight 12928\n",
      "\n",
      "\n",
      "UNBALANCED AT 'hlqnsbe'\n",
      "-----------------------\n",
      "'rilyl' (28969) has aggregated weight 93614\n",
      "'vhyiaf' (96) has aggregated weight 93609\n",
      "'pdvmaam' (67089) has aggregated weight 93609\n",
      "'jkbuq' (29619) has aggregated weight 93609\n",
      "\n",
      "\n"
     ]
    }
   ],
   "source": [
    "def aggweight(link):\n",
    "    children = [\n",
    "        l for l in links \n",
    "        if l[1] == link[0]\n",
    "    ]\n",
    "    childweights = [aggweight(c) for c in children]\n",
    "    if len(set(childweights)) > 1:\n",
    "        warning = \"UNBALANCED AT '%s'\" % link[0]\n",
    "        print(warning)\n",
    "        print(\"-\" * len(warning))\n",
    "        for z in zip(children, childweights):\n",
    "            print(\n",
    "                \"'%s' (%d) has aggregated weight %d\" \n",
    "                % (z[0][0], z[0][2], z[1])\n",
    "            )\n",
    "        print('\\n')\n",
    "    return link[2] + sum(childweights)\n",
    "\n",
    "bottomweight = aggweight((bottom, '', 0))"
   ]
  },
  {
   "cell_type": "markdown",
   "metadata": {},
   "source": [
    "## Day 8\n",
    "Puzzle input: `day08.txt`\n",
    "### Part 1"
   ]
  },
  {
   "cell_type": "code",
   "execution_count": 15,
   "metadata": {},
   "outputs": [
    {
     "name": "stdout",
     "output_type": "stream",
     "text": [
      "6343\n"
     ]
    }
   ],
   "source": [
    "from collections import defaultdict\n",
    "\n",
    "with open('day08.txt') as f:\n",
    "    lines = [l.strip().split(' ') for l in f.readlines()]\n",
    "\n",
    "dic = defaultdict(int)\n",
    "bestmax = 0\n",
    "\n",
    "for l in lines:\n",
    "    exec(\n",
    "        \"%s dic['%s'] %s %s:\\n\\tdic['%s'] %s %s\" \n",
    "        % (\n",
    "            l[3], l[4], l[5], l[6], l[0],\n",
    "            '+=' if l[1] == 'inc' else '-=',\n",
    "            l[2]\n",
    "        )\n",
    "    )\n",
    "    if dic[l[0]] > bestmax:\n",
    "        bestmax = dic[l[0]]\n",
    "    \n",
    "print(max(dic.values()))"
   ]
  },
  {
   "cell_type": "markdown",
   "metadata": {},
   "source": [
    "### Part 2"
   ]
  },
  {
   "cell_type": "code",
   "execution_count": 16,
   "metadata": {},
   "outputs": [
    {
     "name": "stdout",
     "output_type": "stream",
     "text": [
      "7184\n"
     ]
    }
   ],
   "source": [
    "print(bestmax)"
   ]
  },
  {
   "cell_type": "markdown",
   "metadata": {},
   "source": [
    "## Day 9\n",
    "Puzzle input: `day09.txt`\n",
    "### Part 1"
   ]
  },
  {
   "cell_type": "code",
   "execution_count": 17,
   "metadata": {},
   "outputs": [
    {
     "data": {
      "text/plain": [
       "1234567890123456789012345678901234567890123456789012345678901234567890123456789"
      ]
     },
     "execution_count": 17,
     "metadata": {},
     "output_type": "execute_result"
    }
   ],
   "source": [
    "1234567890123456789012345678901234567890123456789012345678901234567890123456789"
   ]
  },
  {
   "cell_type": "code",
   "execution_count": 18,
   "metadata": {},
   "outputs": [
    {
     "name": "stdout",
     "output_type": "stream",
     "text": [
      "11898\n"
     ]
    }
   ],
   "source": [
    "with open('day09.txt') as f:\n",
    "    inp = f.read().strip()\n",
    "    \n",
    "i = 0\n",
    "while i < len(inp):\n",
    "    if inp[i] == '!':\n",
    "        inp = inp[:i] + inp[i+2:]\n",
    "    else:\n",
    "        i += 1\n",
    "        \n",
    "garbage = 0        \n",
    "while '<' in inp:\n",
    "    inp = inp.split('<', maxsplit = 1)\n",
    "    g, inp[1] = inp[1].split('>', maxsplit = 1)\n",
    "    garbage += len(g)\n",
    "    inp = ''.join(inp)\n",
    "\n",
    "totscore = 0\n",
    "def score(s, x):\n",
    "    global totscore \n",
    "    if '{' in s and '}' in s:\n",
    "        s = s.split('{', maxsplit = 1)[1]\n",
    "        j = 1\n",
    "        while  s[:j].count('{') >= s[:j].count('}'):\n",
    "            j += 1\n",
    "        totscore += x + 1\n",
    "        score(s[:j-1], x + 1)\n",
    "        score(s[j:], x)\n",
    "\n",
    "score(inp, 0)\n",
    "print(totscore)"
   ]
  },
  {
   "cell_type": "markdown",
   "metadata": {},
   "source": [
    "### Part 2"
   ]
  },
  {
   "cell_type": "code",
   "execution_count": 19,
   "metadata": {},
   "outputs": [
    {
     "name": "stdout",
     "output_type": "stream",
     "text": [
      "5601\n"
     ]
    }
   ],
   "source": [
    "print(garbage)"
   ]
  }
 ],
 "metadata": {
  "kernelspec": {
   "display_name": "Python 3",
   "language": "python",
   "name": "python3"
  },
  "language_info": {
   "codemirror_mode": {
    "name": "ipython",
    "version": 3
   },
   "file_extension": ".py",
   "mimetype": "text/x-python",
   "name": "python",
   "nbconvert_exporter": "python",
   "pygments_lexer": "ipython3",
   "version": "3.6.3"
  }
 },
 "nbformat": 4,
 "nbformat_minor": 2
}
